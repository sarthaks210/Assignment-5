{
 "cells": [
  {
   "cell_type": "code",
   "execution_count": 1,
   "id": "230a84f3",
   "metadata": {},
   "outputs": [],
   "source": [
    "#Importing Libraries\n",
    "import pandas as pd\n",
    "import numpy as np\n",
    "import matplotlib.pyplot as plt\n",
    "import seaborn as sns\n",
    "%matplotlib inline"
   ]
  },
  {
   "cell_type": "code",
   "execution_count": 2,
   "id": "dec1a267",
   "metadata": {},
   "outputs": [
    {
     "data": {
      "text/html": [
       "<div>\n",
       "<style scoped>\n",
       "    .dataframe tbody tr th:only-of-type {\n",
       "        vertical-align: middle;\n",
       "    }\n",
       "\n",
       "    .dataframe tbody tr th {\n",
       "        vertical-align: top;\n",
       "    }\n",
       "\n",
       "    .dataframe thead th {\n",
       "        text-align: right;\n",
       "    }\n",
       "</style>\n",
       "<table border=\"1\" class=\"dataframe\">\n",
       "  <thead>\n",
       "    <tr style=\"text-align: right;\">\n",
       "      <th></th>\n",
       "      <th>web-scraper-order</th>\n",
       "      <th>web-scraper-start-url</th>\n",
       "      <th>userID</th>\n",
       "      <th>userID-href</th>\n",
       "      <th>name</th>\n",
       "      <th>uploads</th>\n",
       "      <th>subscribers</th>\n",
       "      <th>videoviews</th>\n",
       "      <th>country</th>\n",
       "      <th>channeltype</th>\n",
       "      <th>usercreated</th>\n",
       "      <th>grade</th>\n",
       "      <th>YouTube_Link</th>\n",
       "      <th>YouTube_Link-href</th>\n",
       "      <th>TwitterHandle</th>\n",
       "      <th>TwitterHandle-href</th>\n",
       "      <th>InstagramHandle</th>\n",
       "      <th>InstagramHandle-href</th>\n",
       "      <th>MonthlyEarnings</th>\n",
       "      <th>YearlyEarnings</th>\n",
       "    </tr>\n",
       "  </thead>\n",
       "  <tbody>\n",
       "    <tr>\n",
       "      <th>0</th>\n",
       "      <td>1553043067-5148</td>\n",
       "      <td>https://socialblade.com/youtube/top/5000/mosts...</td>\n",
       "      <td>PewDiePie</td>\n",
       "      <td>https://socialblade.com/youtube/c/pewdiepie</td>\n",
       "      <td>PewDiePie</td>\n",
       "      <td>3779</td>\n",
       "      <td>90210848</td>\n",
       "      <td>20772365682</td>\n",
       "      <td>US</td>\n",
       "      <td>Entertainment</td>\n",
       "      <td>Apr 29th, 2010</td>\n",
       "      <td>A</td>\n",
       "      <td>NaN</td>\n",
       "      <td>https://youtube.com/channel/UC-lHJZR3Gqxm24_Vd...</td>\n",
       "      <td>NaN</td>\n",
       "      <td>https://twitter.com/pewdiepie</td>\n",
       "      <td>NaN</td>\n",
       "      <td>https://instagram.com/pewdiepie</td>\n",
       "      <td>€66.9K - €1.1M</td>\n",
       "      <td>€802.3K - €12.8M</td>\n",
       "    </tr>\n",
       "    <tr>\n",
       "      <th>1</th>\n",
       "      <td>1553043063-5147</td>\n",
       "      <td>https://socialblade.com/youtube/top/5000/mosts...</td>\n",
       "      <td>T-Series</td>\n",
       "      <td>https://socialblade.com/youtube/c/tseriesmusic</td>\n",
       "      <td>T-Series</td>\n",
       "      <td>13218</td>\n",
       "      <td>90194329</td>\n",
       "      <td>65092058996</td>\n",
       "      <td>IN</td>\n",
       "      <td>Music</td>\n",
       "      <td>Mar 13th, 2006</td>\n",
       "      <td>A++</td>\n",
       "      <td>NaN</td>\n",
       "      <td>https://youtube.com/channel/UCq-Fj5jknLsUf-MWS...</td>\n",
       "      <td>NaN</td>\n",
       "      <td>https://instagram.com/tseries.official</td>\n",
       "      <td>NaN</td>\n",
       "      <td>https://plus.google.com/115156822320080163368</td>\n",
       "      <td>€635.6K - €10.2M</td>\n",
       "      <td>€7.6M - €122M</td>\n",
       "    </tr>\n",
       "    <tr>\n",
       "      <th>2</th>\n",
       "      <td>1553043059-5146</td>\n",
       "      <td>https://socialblade.com/youtube/top/5000/mosts...</td>\n",
       "      <td>Gaming</td>\n",
       "      <td>https://socialblade.com/youtube/channel/UCOpNc...</td>\n",
       "      <td>Gaming</td>\n",
       "      <td>0</td>\n",
       "      <td>81888222</td>\n",
       "      <td>0</td>\n",
       "      <td>NaN</td>\n",
       "      <td>Games</td>\n",
       "      <td>Dec 15th, 2013</td>\n",
       "      <td>D-</td>\n",
       "      <td>NaN</td>\n",
       "      <td>https://youtube.com/channel/UCOpNcN46UbXVtpKMr...</td>\n",
       "      <td>NaN</td>\n",
       "      <td>NaN</td>\n",
       "      <td>NaN</td>\n",
       "      <td>https://youtube.com/channel/UCOpNcN46UbXVtpKMr...</td>\n",
       "      <td>€0 - €0</td>\n",
       "      <td>€0 - €0</td>\n",
       "    </tr>\n",
       "    <tr>\n",
       "      <th>3</th>\n",
       "      <td>1553043055-5145</td>\n",
       "      <td>https://socialblade.com/youtube/top/5000/mosts...</td>\n",
       "      <td>YouTube Movies</td>\n",
       "      <td>https://socialblade.com/youtube/channel/UClgRk...</td>\n",
       "      <td>YouTube Movies</td>\n",
       "      <td>0</td>\n",
       "      <td>77413743</td>\n",
       "      <td>0</td>\n",
       "      <td>NaN</td>\n",
       "      <td>Film</td>\n",
       "      <td>Jun 10th, 2015</td>\n",
       "      <td>D-</td>\n",
       "      <td>NaN</td>\n",
       "      <td>https://youtube.com/channel/UClgRkhTL3_hImCAmd...</td>\n",
       "      <td>NaN</td>\n",
       "      <td>NaN</td>\n",
       "      <td>NaN</td>\n",
       "      <td>https://youtube.com/channel/UClgRkhTL3_hImCAmd...</td>\n",
       "      <td>€0 - €0</td>\n",
       "      <td>€0 - €0</td>\n",
       "    </tr>\n",
       "    <tr>\n",
       "      <th>4</th>\n",
       "      <td>1553043051-5144</td>\n",
       "      <td>https://socialblade.com/youtube/top/5000/mosts...</td>\n",
       "      <td>Sports</td>\n",
       "      <td>https://socialblade.com/youtube/channel/UCEgdi...</td>\n",
       "      <td>Sports</td>\n",
       "      <td>0</td>\n",
       "      <td>75622870</td>\n",
       "      <td>0</td>\n",
       "      <td>NaN</td>\n",
       "      <td>Sports</td>\n",
       "      <td>Dec 15th, 2013</td>\n",
       "      <td>D-</td>\n",
       "      <td>NaN</td>\n",
       "      <td>https://youtube.com/channel/UCEgdi0XIXXZ-qJOFP...</td>\n",
       "      <td>NaN</td>\n",
       "      <td>NaN</td>\n",
       "      <td>NaN</td>\n",
       "      <td>https://youtube.com/channel/UCEgdi0XIXXZ-qJOFP...</td>\n",
       "      <td>€0 - €0</td>\n",
       "      <td>€0 - €0</td>\n",
       "    </tr>\n",
       "  </tbody>\n",
       "</table>\n",
       "</div>"
      ],
      "text/plain": [
       "  web-scraper-order                              web-scraper-start-url  \\\n",
       "0   1553043067-5148  https://socialblade.com/youtube/top/5000/mosts...   \n",
       "1   1553043063-5147  https://socialblade.com/youtube/top/5000/mosts...   \n",
       "2   1553043059-5146  https://socialblade.com/youtube/top/5000/mosts...   \n",
       "3   1553043055-5145  https://socialblade.com/youtube/top/5000/mosts...   \n",
       "4   1553043051-5144  https://socialblade.com/youtube/top/5000/mosts...   \n",
       "\n",
       "           userID                                        userID-href  \\\n",
       "0       PewDiePie        https://socialblade.com/youtube/c/pewdiepie   \n",
       "1        T-Series     https://socialblade.com/youtube/c/tseriesmusic   \n",
       "2          Gaming  https://socialblade.com/youtube/channel/UCOpNc...   \n",
       "3  YouTube Movies  https://socialblade.com/youtube/channel/UClgRk...   \n",
       "4          Sports  https://socialblade.com/youtube/channel/UCEgdi...   \n",
       "\n",
       "             name  uploads  subscribers   videoviews country    channeltype  \\\n",
       "0       PewDiePie     3779     90210848  20772365682      US  Entertainment   \n",
       "1        T-Series    13218     90194329  65092058996      IN          Music   \n",
       "2          Gaming        0     81888222            0     NaN          Games   \n",
       "3  YouTube Movies        0     77413743            0     NaN           Film   \n",
       "4          Sports        0     75622870            0     NaN         Sports   \n",
       "\n",
       "      usercreated grade YouTube_Link  \\\n",
       "0  Apr 29th, 2010     A          NaN   \n",
       "1  Mar 13th, 2006   A++          NaN   \n",
       "2  Dec 15th, 2013    D-          NaN   \n",
       "3  Jun 10th, 2015    D-          NaN   \n",
       "4  Dec 15th, 2013    D-          NaN   \n",
       "\n",
       "                                   YouTube_Link-href TwitterHandle  \\\n",
       "0  https://youtube.com/channel/UC-lHJZR3Gqxm24_Vd...           NaN   \n",
       "1  https://youtube.com/channel/UCq-Fj5jknLsUf-MWS...           NaN   \n",
       "2  https://youtube.com/channel/UCOpNcN46UbXVtpKMr...           NaN   \n",
       "3  https://youtube.com/channel/UClgRkhTL3_hImCAmd...           NaN   \n",
       "4  https://youtube.com/channel/UCEgdi0XIXXZ-qJOFP...           NaN   \n",
       "\n",
       "                       TwitterHandle-href InstagramHandle  \\\n",
       "0           https://twitter.com/pewdiepie             NaN   \n",
       "1  https://instagram.com/tseries.official             NaN   \n",
       "2                                     NaN             NaN   \n",
       "3                                     NaN             NaN   \n",
       "4                                     NaN             NaN   \n",
       "\n",
       "                                InstagramHandle-href   MonthlyEarnings  \\\n",
       "0                    https://instagram.com/pewdiepie    €66.9K - €1.1M   \n",
       "1      https://plus.google.com/115156822320080163368  €635.6K - €10.2M   \n",
       "2  https://youtube.com/channel/UCOpNcN46UbXVtpKMr...           €0 - €0   \n",
       "3  https://youtube.com/channel/UClgRkhTL3_hImCAmd...           €0 - €0   \n",
       "4  https://youtube.com/channel/UCEgdi0XIXXZ-qJOFP...           €0 - €0   \n",
       "\n",
       "     YearlyEarnings  \n",
       "0  €802.3K - €12.8M  \n",
       "1     €7.6M - €122M  \n",
       "2           €0 - €0  \n",
       "3           €0 - €0  \n",
       "4           €0 - €0  "
      ]
     },
     "execution_count": 2,
     "metadata": {},
     "output_type": "execute_result"
    }
   ],
   "source": [
    "df=pd.read_csv('youtube_dataset.csv',encoding='cp1252')\n",
    "df.head()\n"
   ]
  },
  {
   "cell_type": "code",
   "execution_count": 3,
   "id": "4db557f6",
   "metadata": {},
   "outputs": [
    {
     "data": {
      "text/plain": [
       "pandas.core.frame.DataFrame"
      ]
     },
     "execution_count": 3,
     "metadata": {},
     "output_type": "execute_result"
    }
   ],
   "source": [
    "type(df)"
   ]
  },
  {
   "cell_type": "code",
   "execution_count": 4,
   "id": "24e64be0",
   "metadata": {},
   "outputs": [
    {
     "data": {
      "text/plain": [
       "(3944, 20)"
      ]
     },
     "execution_count": 4,
     "metadata": {},
     "output_type": "execute_result"
    }
   ],
   "source": [
    "df.shape"
   ]
  },
  {
   "cell_type": "code",
   "execution_count": 5,
   "id": "3e208b55",
   "metadata": {},
   "outputs": [],
   "source": [
    "#Subset_function\n",
    "def subset_data(data,first_row,last_row):\n",
    "    \n",
    "    subset=data.iloc[first_row:last_row]\n",
    "    \n",
    "    return subset.to_csv('Top_{}.csv'.format(last_row),encoding='cp1252')"
   ]
  },
  {
   "cell_type": "code",
   "execution_count": 6,
   "id": "892d5c1a",
   "metadata": {},
   "outputs": [],
   "source": [
    "#Exporting csv file for top 1000 rows\n",
    "subset_data(df,0,1000)"
   ]
  },
  {
   "cell_type": "code",
   "execution_count": 42,
   "id": "335ff46e",
   "metadata": {},
   "outputs": [],
   "source": [
    "#Function to find out distribution of channeltype\n",
    "def plot_channel_dist(first_row,last_row):\n",
    "    sns.set_style(\"whitegrid\")\n",
    "    fig=sns.displot(df['channeltype'].iloc[first_row:last_row],height=5,aspect=3)\n",
    "    \n",
    "    return fig"
   ]
  },
  {
   "cell_type": "code",
   "execution_count": 47,
   "id": "3654b367",
   "metadata": {},
   "outputs": [
    {
     "data": {
      "text/plain": [
       "<seaborn.axisgrid.FacetGrid at 0x19b37345550>"
      ]
     },
     "execution_count": 47,
     "metadata": {},
     "output_type": "execute_result"
    },
    {
     "data": {
      "image/png": "[encoded data removed]",
      "text/plain": [
       "<Figure size 1080x360 with 1 Axes>"
      ]
     },
     "metadata": {},
     "output_type": "display_data"
    }
   ],
   "source": [
    "#Calling the function for top 1000 rows\n",
    "plot_channel_dist(0,1000)"
   ]
  },
  {
   "cell_type": "code",
   "execution_count": 41,
   "id": "24911377",
   "metadata": {},
   "outputs": [
    {
     "data": {
      "text/plain": [
       "<seaborn.axisgrid.FacetGrid at 0x19b36ff5400>"
      ]
     },
     "execution_count": 41,
     "metadata": {},
     "output_type": "execute_result"
    },
    {
     "data": {
      "image/png": "[encoded data removed]",
      "text/plain": [
       "<Figure size 1080x360 with 1 Axes>"
      ]
     },
     "metadata": {},
     "output_type": "display_data"
    }
   ],
   "source": [
    "sns.set_style(\"whitegrid\")\n",
    "sns.displot(df['channeltype'].iloc[0:1000],height=5,aspect=3)\n",
    "\n"
   ]
  },
  {
   "cell_type": "code",
   "execution_count": 11,
   "id": "a043bf18",
   "metadata": {},
   "outputs": [
    {
     "ename": "TypeError",
     "evalue": "bar() missing 1 required positional argument: 'height'",
     "output_type": "error",
     "traceback": [
      "\u001b[1;31m---------------------------------------------------------------------------\u001b[0m",
      "\u001b[1;31mTypeError\u001b[0m                                 Traceback (most recent call last)",
      "\u001b[1;32m~\\AppData\\Local\\Temp/ipykernel_34296/46968045.py\u001b[0m in \u001b[0;36m<module>\u001b[1;34m\u001b[0m\n\u001b[0;32m      1\u001b[0m \u001b[0mplt\u001b[0m\u001b[1;33m.\u001b[0m\u001b[0mfigure\u001b[0m\u001b[1;33m(\u001b[0m\u001b[0mfigsize\u001b[0m\u001b[1;33m=\u001b[0m\u001b[1;33m(\u001b[0m\u001b[1;36m20\u001b[0m\u001b[1;33m,\u001b[0m\u001b[1;36m20\u001b[0m\u001b[1;33m)\u001b[0m\u001b[1;33m)\u001b[0m\u001b[1;33m\u001b[0m\u001b[1;33m\u001b[0m\u001b[0m\n\u001b[1;32m----> 2\u001b[1;33m \u001b[0mplt\u001b[0m\u001b[1;33m.\u001b[0m\u001b[0mbar\u001b[0m\u001b[1;33m(\u001b[0m\u001b[0mx\u001b[0m\u001b[1;33m=\u001b[0m\u001b[0mdf\u001b[0m\u001b[1;33m[\u001b[0m\u001b[1;34m'channeltype'\u001b[0m\u001b[1;33m]\u001b[0m\u001b[1;33m,\u001b[0m\u001b[0my\u001b[0m\u001b[1;33m=\u001b[0m\u001b[0mdf\u001b[0m\u001b[1;33m[\u001b[0m\u001b[1;34m'channeltype'\u001b[0m\u001b[1;33m]\u001b[0m\u001b[1;33m.\u001b[0m\u001b[0mvalue_counts\u001b[0m\u001b[1;33m(\u001b[0m\u001b[1;33m)\u001b[0m\u001b[1;33m)\u001b[0m\u001b[1;33m\u001b[0m\u001b[1;33m\u001b[0m\u001b[0m\n\u001b[0m",
      "\u001b[1;31mTypeError\u001b[0m: bar() missing 1 required positional argument: 'height'"
     ]
    },
    {
     "data": {
      "text/plain": [
       "<Figure size 1440x1440 with 0 Axes>"
      ]
     },
     "metadata": {},
     "output_type": "display_data"
    }
   ],
   "source": [
    "plt.figure(figsize=(20,20))\n",
    "plt.bar(x=df['channeltype'],y=df['channeltype'].value_counts())"
   ]
  },
  {
   "cell_type": "code",
   "execution_count": 12,
   "id": "a6694350",
   "metadata": {},
   "outputs": [
    {
     "data": {
      "text/plain": [
       "pandas.core.frame.DataFrame"
      ]
     },
     "execution_count": 12,
     "metadata": {},
     "output_type": "execute_result"
    }
   ],
   "source": [
    "type(df3)"
   ]
  },
  {
   "cell_type": "code",
   "execution_count": 13,
   "id": "a9af89c7",
   "metadata": {},
   "outputs": [
    {
     "data": {
      "text/html": [
       "<div>\n",
       "<style scoped>\n",
       "    .dataframe tbody tr th:only-of-type {\n",
       "        vertical-align: middle;\n",
       "    }\n",
       "\n",
       "    .dataframe tbody tr th {\n",
       "        vertical-align: top;\n",
       "    }\n",
       "\n",
       "    .dataframe thead tr th {\n",
       "        text-align: left;\n",
       "    }\n",
       "\n",
       "    .dataframe thead tr:last-of-type th {\n",
       "        text-align: right;\n",
       "    }\n",
       "</style>\n",
       "<table border=\"1\" class=\"dataframe\">\n",
       "  <thead>\n",
       "    <tr>\n",
       "      <th></th>\n",
       "      <th>channeltype</th>\n",
       "    </tr>\n",
       "    <tr>\n",
       "      <th></th>\n",
       "      <th>count</th>\n",
       "    </tr>\n",
       "    <tr>\n",
       "      <th>channeltype</th>\n",
       "      <th></th>\n",
       "    </tr>\n",
       "  </thead>\n",
       "  <tbody>\n",
       "    <tr>\n",
       "      <th>Animals</th>\n",
       "      <td>2</td>\n",
       "    </tr>\n",
       "    <tr>\n",
       "      <th>Autos</th>\n",
       "      <td>3</td>\n",
       "    </tr>\n",
       "    <tr>\n",
       "      <th>Comedy</th>\n",
       "      <td>76</td>\n",
       "    </tr>\n",
       "    <tr>\n",
       "      <th>Education</th>\n",
       "      <td>30</td>\n",
       "    </tr>\n",
       "    <tr>\n",
       "      <th>Entertainment</th>\n",
       "      <td>284</td>\n",
       "    </tr>\n",
       "    <tr>\n",
       "      <th>Film</th>\n",
       "      <td>36</td>\n",
       "    </tr>\n",
       "    <tr>\n",
       "      <th>Games</th>\n",
       "      <td>115</td>\n",
       "    </tr>\n",
       "    <tr>\n",
       "      <th>Howto</th>\n",
       "      <td>49</td>\n",
       "    </tr>\n",
       "    <tr>\n",
       "      <th>Music</th>\n",
       "      <td>240</td>\n",
       "    </tr>\n",
       "    <tr>\n",
       "      <th>News</th>\n",
       "      <td>17</td>\n",
       "    </tr>\n",
       "    <tr>\n",
       "      <th>Nonprofit</th>\n",
       "      <td>1</td>\n",
       "    </tr>\n",
       "    <tr>\n",
       "      <th>People</th>\n",
       "      <td>72</td>\n",
       "    </tr>\n",
       "    <tr>\n",
       "      <th>Sports</th>\n",
       "      <td>17</td>\n",
       "    </tr>\n",
       "    <tr>\n",
       "      <th>Tech</th>\n",
       "      <td>19</td>\n",
       "    </tr>\n",
       "    <tr>\n",
       "      <th>Travel</th>\n",
       "      <td>1</td>\n",
       "    </tr>\n",
       "  </tbody>\n",
       "</table>\n",
       "</div>"
      ],
      "text/plain": [
       "              channeltype\n",
       "                    count\n",
       "channeltype              \n",
       "Animals                 2\n",
       "Autos                   3\n",
       "Comedy                 76\n",
       "Education              30\n",
       "Entertainment         284\n",
       "Film                   36\n",
       "Games                 115\n",
       "Howto                  49\n",
       "Music                 240\n",
       "News                   17\n",
       "Nonprofit               1\n",
       "People                 72\n",
       "Sports                 17\n",
       "Tech                   19\n",
       "Travel                  1"
      ]
     },
     "execution_count": 13,
     "metadata": {},
     "output_type": "execute_result"
    }
   ],
   "source": [
    "df3\n"
   ]
  },
  {
   "cell_type": "code",
   "execution_count": 17,
   "id": "eb966b17",
   "metadata": {},
   "outputs": [
    {
     "ename": "ValueError",
     "evalue": "Could not interpret value `count` for parameter `x`",
     "output_type": "error",
     "traceback": [
      "\u001b[1;31m---------------------------------------------------------------------------\u001b[0m",
      "\u001b[1;31mValueError\u001b[0m                                Traceback (most recent call last)",
      "\u001b[1;32m~\\AppData\\Local\\Temp/ipykernel_34296/2480402886.py\u001b[0m in \u001b[0;36m<module>\u001b[1;34m\u001b[0m\n\u001b[1;32m----> 1\u001b[1;33m \u001b[0msns\u001b[0m\u001b[1;33m.\u001b[0m\u001b[0mdisplot\u001b[0m\u001b[1;33m(\u001b[0m\u001b[0mdf3\u001b[0m\u001b[1;33m,\u001b[0m\u001b[0mx\u001b[0m\u001b[1;33m=\u001b[0m\u001b[1;34m'count'\u001b[0m\u001b[1;33m)\u001b[0m\u001b[1;33m\u001b[0m\u001b[1;33m\u001b[0m\u001b[0m\n\u001b[0m",
      "\u001b[1;32m~\\anaconda3\\lib\\site-packages\\seaborn\\distributions.py\u001b[0m in \u001b[0;36mdisplot\u001b[1;34m(data, x, y, hue, row, col, weights, kind, rug, rug_kws, log_scale, legend, palette, hue_order, hue_norm, color, col_wrap, row_order, col_order, height, aspect, facet_kws, **kwargs)\u001b[0m\n\u001b[0;32m   2192\u001b[0m ):\n\u001b[0;32m   2193\u001b[0m \u001b[1;33m\u001b[0m\u001b[0m\n\u001b[1;32m-> 2194\u001b[1;33m     p = _DistributionFacetPlotter(\n\u001b[0m\u001b[0;32m   2195\u001b[0m         \u001b[0mdata\u001b[0m\u001b[1;33m=\u001b[0m\u001b[0mdata\u001b[0m\u001b[1;33m,\u001b[0m\u001b[1;33m\u001b[0m\u001b[1;33m\u001b[0m\u001b[0m\n\u001b[0;32m   2196\u001b[0m         \u001b[0mvariables\u001b[0m\u001b[1;33m=\u001b[0m\u001b[0m_DistributionFacetPlotter\u001b[0m\u001b[1;33m.\u001b[0m\u001b[0mget_semantics\u001b[0m\u001b[1;33m(\u001b[0m\u001b[0mlocals\u001b[0m\u001b[1;33m(\u001b[0m\u001b[1;33m)\u001b[0m\u001b[1;33m)\u001b[0m\u001b[1;33m\u001b[0m\u001b[1;33m\u001b[0m\u001b[0m\n",
      "\u001b[1;32m~\\anaconda3\\lib\\site-packages\\seaborn\\distributions.py\u001b[0m in \u001b[0;36m__init__\u001b[1;34m(self, data, variables)\u001b[0m\n\u001b[0;32m    109\u001b[0m     ):\n\u001b[0;32m    110\u001b[0m \u001b[1;33m\u001b[0m\u001b[0m\n\u001b[1;32m--> 111\u001b[1;33m         \u001b[0msuper\u001b[0m\u001b[1;33m(\u001b[0m\u001b[1;33m)\u001b[0m\u001b[1;33m.\u001b[0m\u001b[0m__init__\u001b[0m\u001b[1;33m(\u001b[0m\u001b[0mdata\u001b[0m\u001b[1;33m=\u001b[0m\u001b[0mdata\u001b[0m\u001b[1;33m,\u001b[0m \u001b[0mvariables\u001b[0m\u001b[1;33m=\u001b[0m\u001b[0mvariables\u001b[0m\u001b[1;33m)\u001b[0m\u001b[1;33m\u001b[0m\u001b[1;33m\u001b[0m\u001b[0m\n\u001b[0m\u001b[0;32m    112\u001b[0m \u001b[1;33m\u001b[0m\u001b[0m\n\u001b[0;32m    113\u001b[0m     \u001b[1;33m@\u001b[0m\u001b[0mproperty\u001b[0m\u001b[1;33m\u001b[0m\u001b[1;33m\u001b[0m\u001b[0m\n",
      "\u001b[1;32m~\\anaconda3\\lib\\site-packages\\seaborn\\_core.py\u001b[0m in \u001b[0;36m__init__\u001b[1;34m(self, data, variables)\u001b[0m\n\u001b[0;32m    603\u001b[0m     \u001b[1;32mdef\u001b[0m \u001b[0m__init__\u001b[0m\u001b[1;33m(\u001b[0m\u001b[0mself\u001b[0m\u001b[1;33m,\u001b[0m \u001b[0mdata\u001b[0m\u001b[1;33m=\u001b[0m\u001b[1;32mNone\u001b[0m\u001b[1;33m,\u001b[0m \u001b[0mvariables\u001b[0m\u001b[1;33m=\u001b[0m\u001b[1;33m{\u001b[0m\u001b[1;33m}\u001b[0m\u001b[1;33m)\u001b[0m\u001b[1;33m:\u001b[0m\u001b[1;33m\u001b[0m\u001b[1;33m\u001b[0m\u001b[0m\n\u001b[0;32m    604\u001b[0m \u001b[1;33m\u001b[0m\u001b[0m\n\u001b[1;32m--> 605\u001b[1;33m         \u001b[0mself\u001b[0m\u001b[1;33m.\u001b[0m\u001b[0massign_variables\u001b[0m\u001b[1;33m(\u001b[0m\u001b[0mdata\u001b[0m\u001b[1;33m,\u001b[0m \u001b[0mvariables\u001b[0m\u001b[1;33m)\u001b[0m\u001b[1;33m\u001b[0m\u001b[1;33m\u001b[0m\u001b[0m\n\u001b[0m\u001b[0;32m    606\u001b[0m \u001b[1;33m\u001b[0m\u001b[0m\n\u001b[0;32m    607\u001b[0m         \u001b[1;32mfor\u001b[0m \u001b[0mvar\u001b[0m\u001b[1;33m,\u001b[0m \u001b[0mcls\u001b[0m \u001b[1;32min\u001b[0m \u001b[0mself\u001b[0m\u001b[1;33m.\u001b[0m\u001b[0m_semantic_mappings\u001b[0m\u001b[1;33m.\u001b[0m\u001b[0mitems\u001b[0m\u001b[1;33m(\u001b[0m\u001b[1;33m)\u001b[0m\u001b[1;33m:\u001b[0m\u001b[1;33m\u001b[0m\u001b[1;33m\u001b[0m\u001b[0m\n",
      "\u001b[1;32m~\\anaconda3\\lib\\site-packages\\seaborn\\_core.py\u001b[0m in \u001b[0;36massign_variables\u001b[1;34m(self, data, variables)\u001b[0m\n\u001b[0;32m    666\u001b[0m         \u001b[1;32melse\u001b[0m\u001b[1;33m:\u001b[0m\u001b[1;33m\u001b[0m\u001b[1;33m\u001b[0m\u001b[0m\n\u001b[0;32m    667\u001b[0m             \u001b[0mself\u001b[0m\u001b[1;33m.\u001b[0m\u001b[0minput_format\u001b[0m \u001b[1;33m=\u001b[0m \u001b[1;34m\"long\"\u001b[0m\u001b[1;33m\u001b[0m\u001b[1;33m\u001b[0m\u001b[0m\n\u001b[1;32m--> 668\u001b[1;33m             plot_data, variables = self._assign_variables_longform(\n\u001b[0m\u001b[0;32m    669\u001b[0m                 \u001b[0mdata\u001b[0m\u001b[1;33m,\u001b[0m \u001b[1;33m**\u001b[0m\u001b[0mvariables\u001b[0m\u001b[1;33m,\u001b[0m\u001b[1;33m\u001b[0m\u001b[1;33m\u001b[0m\u001b[0m\n\u001b[0;32m    670\u001b[0m             )\n",
      "\u001b[1;32m~\\anaconda3\\lib\\site-packages\\seaborn\\_core.py\u001b[0m in \u001b[0;36m_assign_variables_longform\u001b[1;34m(self, data, **kwargs)\u001b[0m\n\u001b[0;32m    901\u001b[0m \u001b[1;33m\u001b[0m\u001b[0m\n\u001b[0;32m    902\u001b[0m                 \u001b[0merr\u001b[0m \u001b[1;33m=\u001b[0m \u001b[1;34mf\"Could not interpret value `{val}` for parameter `{key}`\"\u001b[0m\u001b[1;33m\u001b[0m\u001b[1;33m\u001b[0m\u001b[0m\n\u001b[1;32m--> 903\u001b[1;33m                 \u001b[1;32mraise\u001b[0m \u001b[0mValueError\u001b[0m\u001b[1;33m(\u001b[0m\u001b[0merr\u001b[0m\u001b[1;33m)\u001b[0m\u001b[1;33m\u001b[0m\u001b[1;33m\u001b[0m\u001b[0m\n\u001b[0m\u001b[0;32m    904\u001b[0m \u001b[1;33m\u001b[0m\u001b[0m\n\u001b[0;32m    905\u001b[0m             \u001b[1;32melse\u001b[0m\u001b[1;33m:\u001b[0m\u001b[1;33m\u001b[0m\u001b[1;33m\u001b[0m\u001b[0m\n",
      "\u001b[1;31mValueError\u001b[0m: Could not interpret value `count` for parameter `x`"
     ]
    }
   ],
   "source": []
  },
  {
   "cell_type": "code",
   "execution_count": null,
   "id": "4cc52fea",
   "metadata": {},
   "outputs": [],
   "source": []
  }
 ],
 "metadata": {
  "kernelspec": {
   "display_name": "Python 3 (ipykernel)",
   "language": "python",
   "name": "python3"
  },
  "language_info": {
   "codemirror_mode": {
    "name": "ipython",
    "version": 3
   },
   "file_extension": ".py",
   "mimetype": "text/x-python",
   "name": "python",
   "nbconvert_exporter": "python",
   "pygments_lexer": "ipython3",
   "version": "3.9.7"
  }
 },
 "nbformat": 4,
 "nbformat_minor": 5
}
